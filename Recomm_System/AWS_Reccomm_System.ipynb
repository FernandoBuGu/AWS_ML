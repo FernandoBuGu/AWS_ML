{
  "nbformat": 4,
  "nbformat_minor": 0,
  "metadata": {
    "colab": {
      "name": "AWS_Reccomm_System.ipynb",
      "provenance": [],
      "collapsed_sections": []
    },
    "kernelspec": {
      "name": "python3",
      "display_name": "Python 3"
    },
    "language_info": {
      "name": "python"
    }
  },
  "cells": [
    {
      "cell_type": "code",
      "metadata": {
        "id": "fQzwkUDB6uDs"
      },
      "source": [
        "import sagemaker\n",
        "import boto3\n",
        "\n",
        "role = sagemaker.get_execution_role()\n",
        "region = boto3.Session().region_name\n",
        "\n",
        "# S3 bucket for saving code and model artifacts.\n",
        "# Feel free to specify a different bucket and prefix\n",
        "bucket = sagemaker.Session().default_bucket()\n",
        "prefix = 'sagemaker/recommendation_system'"
      ],
      "execution_count": null,
      "outputs": []
    },
    {
      "cell_type": "code",
      "metadata": {
        "id": "ffDhi7UT69hS"
      },
      "source": [
        "import os\n",
        "import mxnet as mx\n",
        "from mxnet import gluon, nd, ndarray\n",
        "from mxnet.metric import MSE\n",
        "import pandas as pd\n",
        "import numpy as np\n",
        "from sagemaker.mxnet import MXNet\n",
        "import json\n",
        "import matplotlib.pyplot as plt\n",
        "from sklearn.model_selection import train_test_split\n",
        "import pandas as pd"
      ],
      "execution_count": null,
      "outputs": []
    },
    {
      "cell_type": "code",
      "metadata": {
        "id": "Le8j6AhG6_wl"
      },
      "source": [
        "!mkdir /tmp/recsys/\n",
        "!aws s3 cp s3://amazon-reviews-pds/tsv/amazon_reviews_us_Electronics_v1_00.tsv.gz /tmp/recsys/"
      ],
      "execution_count": null,
      "outputs": []
    },
    {
      "cell_type": "code",
      "metadata": {
        "id": "WakkXjuE7EeK"
      },
      "source": [
        "class MFBlock(gluon.HybridBlock):\n",
        "    def __init__(self, max_users, max_items, num_emb, dropout_p=0.5):\n",
        "        super(MFBlock, self).__init__()"
      ],
      "execution_count": null,
      "outputs": []
    },
    {
      "cell_type": "code",
      "metadata": {
        "id": "9qxFj6EW7IFN"
      },
      "source": [
        "!cat recommender.py"
      ],
      "execution_count": null,
      "outputs": []
    },
    {
      "cell_type": "code",
      "metadata": {
        "id": "IZjfWouj7KVw"
      },
      "source": [
        "boto3.client('s3').copy({'Bucket': 'amazon-reviews-pds', \n",
        "                         'Key': 'tsv/amazon_reviews_us_Electronics_v1_00.tsv.gz'},\n",
        "                        bucket,\n",
        "                        prefix + '/train/amazon_reviews_us_Electronics_v1_00.tsv.gz')"
      ],
      "execution_count": null,
      "outputs": []
    },
    {
      "cell_type": "code",
      "metadata": {
        "id": "goWHoewO7McG"
      },
      "source": [
        "sagemaker.Session().delete_endpoint(predictor.endpoint)"
      ],
      "execution_count": null,
      "outputs": []
    }
  ]
}